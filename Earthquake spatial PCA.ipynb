{
 "cells": [
  {
   "cell_type": "markdown",
   "metadata": {},
   "source": [
    "# Principal Component Analysis of spatial distribution of the recent Ridgecrest earthquakes\n",
    "\n",
    "Source of data: https://earthquake.usgs.gov/earthquakes/map/#%7B%22autoUpdate%22%3A%5B%22autoUpdate%22%5D%2C%22basemap%22%3A%22grayscale%22%2C%22feed%22%3A%227day_m25%22%2C%22listFormat%22%3A%22default%22%2C%22mapposition%22%3A%5B%5B34.912962495216966%2C-119.16320800781249%5D%2C%5B36.91696023183306%2C-115.6475830078125%5D%5D%2C%22overlays%22%3A%5B%22plates%22%5D%2C%22restrictListToMap%22%3A%5B%22restrictListToMap%22%5D%2C%22search%22%3Anull%2C%22sort%22%3A%22newest%22%2C%22timezone%22%3A%22utc%22%2C%22viewModes%22%3A%5B%22list%22%2C%22map%22%2C%22settings%22%5D%2C%22event%22%3Anull%7D\n",
    "\n",
    "Article: https://towardsdatascience.com/pca-using-python-scikit-learn-e653f8989e60"
   ]
  },
  {
   "cell_type": "code",
   "execution_count": 50,
   "metadata": {},
   "outputs": [],
   "source": [
    "import pandas as pd\n",
    "# hides Jupyter warnings\n",
    "import warnings\n",
    "warnings.filterwarnings('ignore')"
   ]
  },
  {
   "cell_type": "code",
   "execution_count": 12,
   "metadata": {},
   "outputs": [
    {
     "data": {
      "text/html": [
       "<div>\n",
       "<style scoped>\n",
       "    .dataframe tbody tr th:only-of-type {\n",
       "        vertical-align: middle;\n",
       "    }\n",
       "\n",
       "    .dataframe tbody tr th {\n",
       "        vertical-align: top;\n",
       "    }\n",
       "\n",
       "    .dataframe thead th {\n",
       "        text-align: right;\n",
       "    }\n",
       "</style>\n",
       "<table border=\"1\" class=\"dataframe\">\n",
       "  <thead>\n",
       "    <tr style=\"text-align: right;\">\n",
       "      <th></th>\n",
       "      <th>latitude</th>\n",
       "      <th>longitude</th>\n",
       "      <th>depth</th>\n",
       "      <th>mag</th>\n",
       "      <th>nst</th>\n",
       "      <th>gap</th>\n",
       "      <th>dmin</th>\n",
       "      <th>rms</th>\n",
       "      <th>horizontalError</th>\n",
       "      <th>depthError</th>\n",
       "      <th>magError</th>\n",
       "      <th>magNst</th>\n",
       "    </tr>\n",
       "  </thead>\n",
       "  <tbody>\n",
       "    <tr>\n",
       "      <th>count</th>\n",
       "      <td>3121.000000</td>\n",
       "      <td>3121.000000</td>\n",
       "      <td>3121.00000</td>\n",
       "      <td>3121.000000</td>\n",
       "      <td>2015.000000</td>\n",
       "      <td>2935.000000</td>\n",
       "      <td>2919.000000</td>\n",
       "      <td>3121.000000</td>\n",
       "      <td>2912.000000</td>\n",
       "      <td>3121.000000</td>\n",
       "      <td>2800.000000</td>\n",
       "      <td>2931.000000</td>\n",
       "    </tr>\n",
       "    <tr>\n",
       "      <th>mean</th>\n",
       "      <td>28.437893</td>\n",
       "      <td>-77.483818</td>\n",
       "      <td>27.79974</td>\n",
       "      <td>3.416299</td>\n",
       "      <td>33.192060</td>\n",
       "      <td>92.014269</td>\n",
       "      <td>1.077598</td>\n",
       "      <td>0.414075</td>\n",
       "      <td>3.056298</td>\n",
       "      <td>3.455963</td>\n",
       "      <td>0.165902</td>\n",
       "      <td>36.083248</td>\n",
       "    </tr>\n",
       "    <tr>\n",
       "      <th>std</th>\n",
       "      <td>22.270805</td>\n",
       "      <td>94.976932</td>\n",
       "      <td>73.56651</td>\n",
       "      <td>0.885153</td>\n",
       "      <td>19.029151</td>\n",
       "      <td>68.193381</td>\n",
       "      <td>2.309536</td>\n",
       "      <td>0.336451</td>\n",
       "      <td>4.184220</td>\n",
       "      <td>10.478070</td>\n",
       "      <td>0.127813</td>\n",
       "      <td>51.707651</td>\n",
       "    </tr>\n",
       "    <tr>\n",
       "      <th>min</th>\n",
       "      <td>-63.118100</td>\n",
       "      <td>-179.963100</td>\n",
       "      <td>-1.73000</td>\n",
       "      <td>2.450000</td>\n",
       "      <td>2.000000</td>\n",
       "      <td>11.000000</td>\n",
       "      <td>0.000000</td>\n",
       "      <td>0.010000</td>\n",
       "      <td>0.090000</td>\n",
       "      <td>0.000000</td>\n",
       "      <td>0.000000</td>\n",
       "      <td>0.000000</td>\n",
       "    </tr>\n",
       "    <tr>\n",
       "      <th>25%</th>\n",
       "      <td>19.757600</td>\n",
       "      <td>-117.726997</td>\n",
       "      <td>2.86000</td>\n",
       "      <td>2.690000</td>\n",
       "      <td>21.000000</td>\n",
       "      <td>50.000000</td>\n",
       "      <td>0.073845</td>\n",
       "      <td>0.170000</td>\n",
       "      <td>0.230000</td>\n",
       "      <td>0.540000</td>\n",
       "      <td>0.107750</td>\n",
       "      <td>17.000000</td>\n",
       "    </tr>\n",
       "    <tr>\n",
       "      <th>50%</th>\n",
       "      <td>35.724000</td>\n",
       "      <td>-117.557667</td>\n",
       "      <td>7.44000</td>\n",
       "      <td>3.080000</td>\n",
       "      <td>28.000000</td>\n",
       "      <td>65.000000</td>\n",
       "      <td>0.110600</td>\n",
       "      <td>0.220000</td>\n",
       "      <td>0.350000</td>\n",
       "      <td>0.910000</td>\n",
       "      <td>0.152500</td>\n",
       "      <td>25.000000</td>\n",
       "    </tr>\n",
       "    <tr>\n",
       "      <th>75%</th>\n",
       "      <td>35.928833</td>\n",
       "      <td>-80.385300</td>\n",
       "      <td>12.10000</td>\n",
       "      <td>4.200000</td>\n",
       "      <td>45.000000</td>\n",
       "      <td>111.000000</td>\n",
       "      <td>1.226850</td>\n",
       "      <td>0.660000</td>\n",
       "      <td>6.200000</td>\n",
       "      <td>2.000000</td>\n",
       "      <td>0.208000</td>\n",
       "      <td>27.000000</td>\n",
       "    </tr>\n",
       "    <tr>\n",
       "      <th>max</th>\n",
       "      <td>84.464200</td>\n",
       "      <td>179.945800</td>\n",
       "      <td>641.95000</td>\n",
       "      <td>7.300000</td>\n",
       "      <td>170.000000</td>\n",
       "      <td>358.000000</td>\n",
       "      <td>30.839000</td>\n",
       "      <td>1.710000</td>\n",
       "      <td>30.570000</td>\n",
       "      <td>365.100000</td>\n",
       "      <td>4.750000</td>\n",
       "      <td>608.000000</td>\n",
       "    </tr>\n",
       "  </tbody>\n",
       "</table>\n",
       "</div>"
      ],
      "text/plain": [
       "          latitude    longitude       depth          mag          nst  \\\n",
       "count  3121.000000  3121.000000  3121.00000  3121.000000  2015.000000   \n",
       "mean     28.437893   -77.483818    27.79974     3.416299    33.192060   \n",
       "std      22.270805    94.976932    73.56651     0.885153    19.029151   \n",
       "min     -63.118100  -179.963100    -1.73000     2.450000     2.000000   \n",
       "25%      19.757600  -117.726997     2.86000     2.690000    21.000000   \n",
       "50%      35.724000  -117.557667     7.44000     3.080000    28.000000   \n",
       "75%      35.928833   -80.385300    12.10000     4.200000    45.000000   \n",
       "max      84.464200   179.945800   641.95000     7.300000   170.000000   \n",
       "\n",
       "               gap         dmin          rms  horizontalError   depthError  \\\n",
       "count  2935.000000  2919.000000  3121.000000      2912.000000  3121.000000   \n",
       "mean     92.014269     1.077598     0.414075         3.056298     3.455963   \n",
       "std      68.193381     2.309536     0.336451         4.184220    10.478070   \n",
       "min      11.000000     0.000000     0.010000         0.090000     0.000000   \n",
       "25%      50.000000     0.073845     0.170000         0.230000     0.540000   \n",
       "50%      65.000000     0.110600     0.220000         0.350000     0.910000   \n",
       "75%     111.000000     1.226850     0.660000         6.200000     2.000000   \n",
       "max     358.000000    30.839000     1.710000        30.570000   365.100000   \n",
       "\n",
       "          magError       magNst  \n",
       "count  2800.000000  2931.000000  \n",
       "mean      0.165902    36.083248  \n",
       "std       0.127813    51.707651  \n",
       "min       0.000000     0.000000  \n",
       "25%       0.107750    17.000000  \n",
       "50%       0.152500    25.000000  \n",
       "75%       0.208000    27.000000  \n",
       "max       4.750000   608.000000  "
      ]
     },
     "execution_count": 12,
     "metadata": {},
     "output_type": "execute_result"
    }
   ],
   "source": [
    "df = pd.read_csv(\"2.5_month.csv\")\n",
    "df.describe()"
   ]
  },
  {
   "cell_type": "code",
   "execution_count": 22,
   "metadata": {},
   "outputs": [
    {
     "data": {
      "text/plain": [
       "array([[ 0.34516808, -0.42484684],\n",
       "       [ 0.33395582, -0.4234673 ],\n",
       "       [ 0.33062507, -0.42268278],\n",
       "       [ 0.32974185, -0.42267927],\n",
       "       [-0.41277656,  0.13229772],\n",
       "       [ 0.33836738,  1.14322196],\n",
       "       [-2.21312566,  0.10743928],\n",
       "       [ 0.21892139, -0.40828221],\n",
       "       [ 1.48412247, -0.76389081],\n",
       "       [ 1.35175311, -0.77589249]])"
      ]
     },
     "execution_count": 22,
     "metadata": {},
     "output_type": "execute_result"
    }
   ],
   "source": [
    "from sklearn.preprocessing import StandardScaler\n",
    "features = ['latitude', 'longitude']\n",
    "# Separating out the features\n",
    "x = df.loc[:, features].values\n",
    "sc = StandardScaler()\n",
    "x = sc.fit_transform(x)\n",
    "x[:10]"
   ]
  },
  {
   "cell_type": "code",
   "execution_count": 28,
   "metadata": {},
   "outputs": [
    {
     "name": "stdout",
     "output_type": "stream",
     "text": [
      "[ 28.43789336 -77.4838184 ] [22.26723686 94.96171531]\n"
     ]
    }
   ],
   "source": [
    "print(sc.mean_, sc.scale_)"
   ]
  },
  {
   "cell_type": "code",
   "execution_count": 29,
   "metadata": {},
   "outputs": [
    {
     "data": {
      "text/html": [
       "<div>\n",
       "<style scoped>\n",
       "    .dataframe tbody tr th:only-of-type {\n",
       "        vertical-align: middle;\n",
       "    }\n",
       "\n",
       "    .dataframe tbody tr th {\n",
       "        vertical-align: top;\n",
       "    }\n",
       "\n",
       "    .dataframe thead th {\n",
       "        text-align: right;\n",
       "    }\n",
       "</style>\n",
       "<table border=\"1\" class=\"dataframe\">\n",
       "  <thead>\n",
       "    <tr style=\"text-align: right;\">\n",
       "      <th></th>\n",
       "      <th>pc1</th>\n",
       "      <th>pc2</th>\n",
       "    </tr>\n",
       "  </thead>\n",
       "  <tbody>\n",
       "    <tr>\n",
       "      <th>count</th>\n",
       "      <td>3.121000e+03</td>\n",
       "      <td>3.121000e+03</td>\n",
       "    </tr>\n",
       "    <tr>\n",
       "      <th>mean</th>\n",
       "      <td>-1.821321e-17</td>\n",
       "      <td>-1.935153e-17</td>\n",
       "    </tr>\n",
       "    <tr>\n",
       "      <th>std</th>\n",
       "      <td>1.161616e+00</td>\n",
       "      <td>8.070244e-01</td>\n",
       "    </tr>\n",
       "    <tr>\n",
       "      <th>min</th>\n",
       "      <td>-1.867768e+00</td>\n",
       "      <td>-3.141517e+00</td>\n",
       "    </tr>\n",
       "    <tr>\n",
       "      <th>25%</th>\n",
       "      <td>-5.364741e-01</td>\n",
       "      <td>-1.042852e-01</td>\n",
       "    </tr>\n",
       "    <tr>\n",
       "      <th>50%</th>\n",
       "      <td>-5.284050e-01</td>\n",
       "      <td>6.337860e-02</td>\n",
       "    </tr>\n",
       "    <tr>\n",
       "      <th>75%</th>\n",
       "      <td>3.943101e-01</td>\n",
       "      <td>6.888521e-02</td>\n",
       "    </tr>\n",
       "    <tr>\n",
       "      <th>max</th>\n",
       "      <td>4.062580e+00</td>\n",
       "      <td>3.503867e+00</td>\n",
       "    </tr>\n",
       "  </tbody>\n",
       "</table>\n",
       "</div>"
      ],
      "text/plain": [
       "                pc1           pc2\n",
       "count  3.121000e+03  3.121000e+03\n",
       "mean  -1.821321e-17 -1.935153e-17\n",
       "std    1.161616e+00  8.070244e-01\n",
       "min   -1.867768e+00 -3.141517e+00\n",
       "25%   -5.364741e-01 -1.042852e-01\n",
       "50%   -5.284050e-01  6.337860e-02\n",
       "75%    3.943101e-01  6.888521e-02\n",
       "max    4.062580e+00  3.503867e+00"
      ]
     },
     "execution_count": 29,
     "metadata": {},
     "output_type": "execute_result"
    }
   ],
   "source": [
    "from sklearn.decomposition import PCA\n",
    "pca = PCA(n_components=2)\n",
    "principalComponents = pca.fit_transform(x)\n",
    "principalDf = pd.DataFrame(data = principalComponents, columns = ['pc1', 'pc2'])\n",
    "principalDf.describe()"
   ]
  },
  {
   "cell_type": "code",
   "execution_count": 32,
   "metadata": {
    "scrolled": true
   },
   "outputs": [
    {
     "name": "stdout",
     "output_type": "stream",
     "text": [
      "[64.88436097 45.0779292 ] [[-0.70710678  0.70710678]\n",
      " [-0.70710678 -0.70710678]]\n"
     ]
    }
   ],
   "source": [
    "print(pca.singular_values_, pca.components_)"
   ]
  },
  {
   "cell_type": "markdown",
   "metadata": {},
   "source": [
    "Geo Pandas: https://www.datacamp.com/community/tutorials/geospatial-data-python"
   ]
  },
  {
   "cell_type": "code",
   "execution_count": 1,
   "metadata": {},
   "outputs": [
    {
     "data": {
      "text/html": [
       "<div>\n",
       "<style scoped>\n",
       "    .dataframe tbody tr th:only-of-type {\n",
       "        vertical-align: middle;\n",
       "    }\n",
       "\n",
       "    .dataframe tbody tr th {\n",
       "        vertical-align: top;\n",
       "    }\n",
       "\n",
       "    .dataframe thead th {\n",
       "        text-align: right;\n",
       "    }\n",
       "</style>\n",
       "<table border=\"1\" class=\"dataframe\">\n",
       "  <thead>\n",
       "    <tr style=\"text-align: right;\">\n",
       "      <th></th>\n",
       "      <th>GEO_ID</th>\n",
       "      <th>STATE</th>\n",
       "      <th>NAME</th>\n",
       "      <th>LSAD</th>\n",
       "      <th>CENSUSAREA</th>\n",
       "      <th>geometry</th>\n",
       "    </tr>\n",
       "  </thead>\n",
       "  <tbody>\n",
       "    <tr>\n",
       "      <th>0</th>\n",
       "      <td>0400000US01</td>\n",
       "      <td>01</td>\n",
       "      <td>Alabama</td>\n",
       "      <td></td>\n",
       "      <td>50645.326</td>\n",
       "      <td>(POLYGON ((-88.124658 30.28364, -88.0868119999...</td>\n",
       "    </tr>\n",
       "    <tr>\n",
       "      <th>1</th>\n",
       "      <td>0400000US02</td>\n",
       "      <td>02</td>\n",
       "      <td>Alaska</td>\n",
       "      <td></td>\n",
       "      <td>570640.950</td>\n",
       "      <td>(POLYGON ((-166.10574 53.988606, -166.075283 5...</td>\n",
       "    </tr>\n",
       "    <tr>\n",
       "      <th>2</th>\n",
       "      <td>0400000US04</td>\n",
       "      <td>04</td>\n",
       "      <td>Arizona</td>\n",
       "      <td></td>\n",
       "      <td>113594.084</td>\n",
       "      <td>POLYGON ((-112.538593 37.000674, -112.534545 3...</td>\n",
       "    </tr>\n",
       "    <tr>\n",
       "      <th>3</th>\n",
       "      <td>0400000US05</td>\n",
       "      <td>05</td>\n",
       "      <td>Arkansas</td>\n",
       "      <td></td>\n",
       "      <td>52035.477</td>\n",
       "      <td>POLYGON ((-94.042964 33.019219, -94.043036 33....</td>\n",
       "    </tr>\n",
       "    <tr>\n",
       "      <th>4</th>\n",
       "      <td>0400000US06</td>\n",
       "      <td>06</td>\n",
       "      <td>California</td>\n",
       "      <td></td>\n",
       "      <td>155779.220</td>\n",
       "      <td>(POLYGON ((-122.421439 37.869969, -122.421341 ...</td>\n",
       "    </tr>\n",
       "  </tbody>\n",
       "</table>\n",
       "</div>"
      ],
      "text/plain": [
       "        GEO_ID STATE        NAME LSAD  CENSUSAREA  \\\n",
       "0  0400000US01    01     Alabama        50645.326   \n",
       "1  0400000US02    02      Alaska       570640.950   \n",
       "2  0400000US04    04     Arizona       113594.084   \n",
       "3  0400000US05    05    Arkansas        52035.477   \n",
       "4  0400000US06    06  California       155779.220   \n",
       "\n",
       "                                            geometry  \n",
       "0  (POLYGON ((-88.124658 30.28364, -88.0868119999...  \n",
       "1  (POLYGON ((-166.10574 53.988606, -166.075283 5...  \n",
       "2  POLYGON ((-112.538593 37.000674, -112.534545 3...  \n",
       "3  POLYGON ((-94.042964 33.019219, -94.043036 33....  \n",
       "4  (POLYGON ((-122.421439 37.869969, -122.421341 ...  "
      ]
     },
     "execution_count": 1,
     "metadata": {},
     "output_type": "execute_result"
    }
   ],
   "source": [
    "import geopandas\n",
    "country = geopandas.read_file(\"gz_2010_us_040_00_5m.json\")\n",
    "country.head()"
   ]
  },
  {
   "cell_type": "code",
   "execution_count": 3,
   "metadata": {},
   "outputs": [
    {
     "data": {
      "text/plain": [
       "<matplotlib.axes._subplots.AxesSubplot at 0x7f51288a8c50>"
      ]
     },
     "execution_count": 3,
     "metadata": {},
     "output_type": "execute_result"
    },
    {
     "data": {
      "image/png": "[encoded data removed]",
      "text/plain": [
       "<Figure size 432x288 with 1 Axes>"
      ]
     },
     "metadata": {
      "needs_background": "light"
     },
     "output_type": "display_data"
    }
   ],
   "source": [
    "import numpy as np\n",
    "from shapely.geometry import Point\n",
    "import matplotlib.pyplot as plt\n",
    "country.plot()"
   ]
  },
  {
   "cell_type": "code",
   "execution_count": 12,
   "metadata": {
    "scrolled": false
   },
   "outputs": [
    {
     "data": {
      "image/png": "[encoded data removed]",
      "text/plain": [
       "<Figure size 2160x1440 with 1 Axes>"
      ]
     },
     "metadata": {
      "needs_background": "light"
     },
     "output_type": "display_data"
    }
   ],
   "source": [
    "country[country['NAME'].isin(['California']) == True].plot(figsize=(30,20), color='#CCCCCC');"
   ]
  },
  {
   "cell_type": "code",
   "execution_count": 34,
   "metadata": {
    "scrolled": false
   },
   "outputs": [
    {
     "data": {
      "text/html": [
       "<div>\n",
       "<style scoped>\n",
       "    .dataframe tbody tr th:only-of-type {\n",
       "        vertical-align: middle;\n",
       "    }\n",
       "\n",
       "    .dataframe tbody tr th {\n",
       "        vertical-align: top;\n",
       "    }\n",
       "\n",
       "    .dataframe thead th {\n",
       "        text-align: right;\n",
       "    }\n",
       "</style>\n",
       "<table border=\"1\" class=\"dataframe\">\n",
       "  <thead>\n",
       "    <tr style=\"text-align: right;\">\n",
       "      <th></th>\n",
       "      <th>id</th>\n",
       "      <th>mag</th>\n",
       "      <th>place</th>\n",
       "      <th>time</th>\n",
       "      <th>updated</th>\n",
       "      <th>tz</th>\n",
       "      <th>url</th>\n",
       "      <th>detail</th>\n",
       "      <th>felt</th>\n",
       "      <th>cdi</th>\n",
       "      <th>...</th>\n",
       "      <th>nst</th>\n",
       "      <th>dmin</th>\n",
       "      <th>rms</th>\n",
       "      <th>gap</th>\n",
       "      <th>magType</th>\n",
       "      <th>type</th>\n",
       "      <th>title</th>\n",
       "      <th>geometry</th>\n",
       "      <th>lat</th>\n",
       "      <th>lon</th>\n",
       "    </tr>\n",
       "  </thead>\n",
       "  <tbody>\n",
       "    <tr>\n",
       "      <th>0</th>\n",
       "      <td>ci38600815</td>\n",
       "      <td>3.28</td>\n",
       "      <td>14km NE of Coso Junction, CA</td>\n",
       "      <td>1563504733590</td>\n",
       "      <td>1563504868134</td>\n",
       "      <td>-480</td>\n",
       "      <td>https://earthquake.usgs.gov/earthquakes/eventp...</td>\n",
       "      <td>https://earthquake.usgs.gov/earthquakes/feed/v...</td>\n",
       "      <td>NaN</td>\n",
       "      <td>NaN</td>\n",
       "      <td>...</td>\n",
       "      <td>48.0</td>\n",
       "      <td>0.02262</td>\n",
       "      <td>0.18</td>\n",
       "      <td>51.0</td>\n",
       "      <td>ml</td>\n",
       "      <td>earthquake</td>\n",
       "      <td>M 3.3 - 14km NE of Coso Junction, CA</td>\n",
       "      <td>POINT Z (-117.8280029 36.1238327 2.86)</td>\n",
       "      <td>-117.828003</td>\n",
       "      <td>36.123833</td>\n",
       "    </tr>\n",
       "    <tr>\n",
       "      <th>1</th>\n",
       "      <td>ci38600727</td>\n",
       "      <td>2.58</td>\n",
       "      <td>20km ESE of Little Lake, CA</td>\n",
       "      <td>1563503808010</td>\n",
       "      <td>1563504481630</td>\n",
       "      <td>-480</td>\n",
       "      <td>https://earthquake.usgs.gov/earthquakes/eventp...</td>\n",
       "      <td>https://earthquake.usgs.gov/earthquakes/feed/v...</td>\n",
       "      <td>NaN</td>\n",
       "      <td>NaN</td>\n",
       "      <td>...</td>\n",
       "      <td>33.0</td>\n",
       "      <td>0.08560</td>\n",
       "      <td>0.16</td>\n",
       "      <td>48.0</td>\n",
       "      <td>ml</td>\n",
       "      <td>earthquake</td>\n",
       "      <td>M 2.6 - 20km ESE of Little Lake, CA</td>\n",
       "      <td>POINT Z (-117.697 35.8741667 7.5)</td>\n",
       "      <td>-117.697000</td>\n",
       "      <td>35.874167</td>\n",
       "    </tr>\n",
       "    <tr>\n",
       "      <th>2</th>\n",
       "      <td>ci38600703</td>\n",
       "      <td>2.47</td>\n",
       "      <td>20km W of Searles Valley, CA</td>\n",
       "      <td>1563503614080</td>\n",
       "      <td>1563503842559</td>\n",
       "      <td>-480</td>\n",
       "      <td>https://earthquake.usgs.gov/earthquakes/eventp...</td>\n",
       "      <td>https://earthquake.usgs.gov/earthquakes/feed/v...</td>\n",
       "      <td>NaN</td>\n",
       "      <td>NaN</td>\n",
       "      <td>...</td>\n",
       "      <td>26.0</td>\n",
       "      <td>0.02568</td>\n",
       "      <td>0.20</td>\n",
       "      <td>55.0</td>\n",
       "      <td>ml</td>\n",
       "      <td>earthquake</td>\n",
       "      <td>M 2.5 - 20km W of Searles Valley, CA</td>\n",
       "      <td>POINT Z (-117.6225 35.8 7.25)</td>\n",
       "      <td>-117.622500</td>\n",
       "      <td>35.800000</td>\n",
       "    </tr>\n",
       "    <tr>\n",
       "      <th>3</th>\n",
       "      <td>ci38600551</td>\n",
       "      <td>2.48</td>\n",
       "      <td>18km NNE of Ridgecrest, CA</td>\n",
       "      <td>1563501912470</td>\n",
       "      <td>1563502558770</td>\n",
       "      <td>-480</td>\n",
       "      <td>https://earthquake.usgs.gov/earthquakes/eventp...</td>\n",
       "      <td>https://earthquake.usgs.gov/earthquakes/feed/v...</td>\n",
       "      <td>NaN</td>\n",
       "      <td>NaN</td>\n",
       "      <td>...</td>\n",
       "      <td>34.0</td>\n",
       "      <td>0.04062</td>\n",
       "      <td>0.16</td>\n",
       "      <td>60.0</td>\n",
       "      <td>ml</td>\n",
       "      <td>earthquake</td>\n",
       "      <td>M 2.5 - 18km NNE of Ridgecrest, CA</td>\n",
       "      <td>POINT Z (-117.6221667 35.7803333 9.83)</td>\n",
       "      <td>-117.622167</td>\n",
       "      <td>35.780333</td>\n",
       "    </tr>\n",
       "    <tr>\n",
       "      <th>4</th>\n",
       "      <td>pr2019200000</td>\n",
       "      <td>2.86</td>\n",
       "      <td>98km NNW of Road Town, British Virgin Islands</td>\n",
       "      <td>1563500165820</td>\n",
       "      <td>1563502053040</td>\n",
       "      <td>-240</td>\n",
       "      <td>https://earthquake.usgs.gov/earthquakes/eventp...</td>\n",
       "      <td>https://earthquake.usgs.gov/earthquakes/feed/v...</td>\n",
       "      <td>NaN</td>\n",
       "      <td>NaN</td>\n",
       "      <td>...</td>\n",
       "      <td>9.0</td>\n",
       "      <td>1.44260</td>\n",
       "      <td>0.35</td>\n",
       "      <td>339.0</td>\n",
       "      <td>md</td>\n",
       "      <td>earthquake</td>\n",
       "      <td>M 2.9 - 98km NNW of Road Town, British Virgin ...</td>\n",
       "      <td>POINT Z (-64.92059999999999 19.2465 35)</td>\n",
       "      <td>-64.920600</td>\n",
       "      <td>19.246500</td>\n",
       "    </tr>\n",
       "  </tbody>\n",
       "</table>\n",
       "<p>5 rows × 30 columns</p>\n",
       "</div>"
      ],
      "text/plain": [
       "             id   mag                                          place  \\\n",
       "0    ci38600815  3.28                   14km NE of Coso Junction, CA   \n",
       "1    ci38600727  2.58                    20km ESE of Little Lake, CA   \n",
       "2    ci38600703  2.47                   20km W of Searles Valley, CA   \n",
       "3    ci38600551  2.48                     18km NNE of Ridgecrest, CA   \n",
       "4  pr2019200000  2.86  98km NNW of Road Town, British Virgin Islands   \n",
       "\n",
       "            time        updated   tz  \\\n",
       "0  1563504733590  1563504868134 -480   \n",
       "1  1563503808010  1563504481630 -480   \n",
       "2  1563503614080  1563503842559 -480   \n",
       "3  1563501912470  1563502558770 -480   \n",
       "4  1563500165820  1563502053040 -240   \n",
       "\n",
       "                                                 url  \\\n",
       "0  https://earthquake.usgs.gov/earthquakes/eventp...   \n",
       "1  https://earthquake.usgs.gov/earthquakes/eventp...   \n",
       "2  https://earthquake.usgs.gov/earthquakes/eventp...   \n",
       "3  https://earthquake.usgs.gov/earthquakes/eventp...   \n",
       "4  https://earthquake.usgs.gov/earthquakes/eventp...   \n",
       "\n",
       "                                              detail  felt  cdi  ...   nst  \\\n",
       "0  https://earthquake.usgs.gov/earthquakes/feed/v...   NaN  NaN  ...  48.0   \n",
       "1  https://earthquake.usgs.gov/earthquakes/feed/v...   NaN  NaN  ...  33.0   \n",
       "2  https://earthquake.usgs.gov/earthquakes/feed/v...   NaN  NaN  ...  26.0   \n",
       "3  https://earthquake.usgs.gov/earthquakes/feed/v...   NaN  NaN  ...  34.0   \n",
       "4  https://earthquake.usgs.gov/earthquakes/feed/v...   NaN  NaN  ...   9.0   \n",
       "\n",
       "      dmin   rms    gap  magType        type  \\\n",
       "0  0.02262  0.18   51.0       ml  earthquake   \n",
       "1  0.08560  0.16   48.0       ml  earthquake   \n",
       "2  0.02568  0.20   55.0       ml  earthquake   \n",
       "3  0.04062  0.16   60.0       ml  earthquake   \n",
       "4  1.44260  0.35  339.0       md  earthquake   \n",
       "\n",
       "                                               title  \\\n",
       "0               M 3.3 - 14km NE of Coso Junction, CA   \n",
       "1                M 2.6 - 20km ESE of Little Lake, CA   \n",
       "2               M 2.5 - 20km W of Searles Valley, CA   \n",
       "3                 M 2.5 - 18km NNE of Ridgecrest, CA   \n",
       "4  M 2.9 - 98km NNW of Road Town, British Virgin ...   \n",
       "\n",
       "                                  geometry         lat        lon  \n",
       "0   POINT Z (-117.8280029 36.1238327 2.86) -117.828003  36.123833  \n",
       "1        POINT Z (-117.697 35.8741667 7.5) -117.697000  35.874167  \n",
       "2            POINT Z (-117.6225 35.8 7.25) -117.622500  35.800000  \n",
       "3   POINT Z (-117.6221667 35.7803333 9.83) -117.622167  35.780333  \n",
       "4  POINT Z (-64.92059999999999 19.2465 35)  -64.920600  19.246500  \n",
       "\n",
       "[5 rows x 30 columns]"
      ]
     },
     "execution_count": 34,
     "metadata": {},
     "output_type": "execute_result"
    }
   ],
   "source": [
    "qk = geopandas.read_file(\"2.5_month.geojson\")\n",
    "qk.head()"
   ]
  },
  {
   "cell_type": "code",
   "execution_count": 44,
   "metadata": {},
   "outputs": [
    {
     "data": {
      "image/png": "[encoded data removed]",
      "text/plain": [
       "<Figure size 1440x1080 with 1 Axes>"
      ]
     },
     "metadata": {
      "needs_background": "light"
     },
     "output_type": "display_data"
    }
   ],
   "source": [
    "qk[(qk.geometry.x < -116.4) & (qk.geometry.y > 35.0)].loc[(qk.geometry.x > -118.67) & (qk.geometry.y < 36.4)].plot(figsize=(20,15), color='#FF0000');"
   ]
  },
  {
   "cell_type": "code",
   "execution_count": 45,
   "metadata": {},
   "outputs": [
    {
     "data": {
      "image/png": "[encoded data removed]",
      "text/plain": [
       "<Figure size 2160x1440 with 1 Axes>"
      ]
     },
     "metadata": {
      "needs_background": "light"
     },
     "output_type": "display_data"
    }
   ],
   "source": [
    "# Plotting to see the hurricane overlay the US map:\n",
    "fig, ax = plt.subplots(1, figsize=(30,20))\n",
    "base = country[country['NAME'].isin(['California']) == True].plot(ax=ax, color='#CCCCCC')\n",
    "\n",
    "# plotting the hurricane position on top with red color to stand out:\n",
    "qk[(qk.geometry.x < -116.4) & (qk.geometry.y > 35.0)].loc[(qk.geometry.x > -118.67) & (qk.geometry.y < 36.4)].plot(ax=base, color='red', marker=\"*\", markersize=10);"
   ]
  },
  {
   "cell_type": "code",
   "execution_count": null,
   "metadata": {},
   "outputs": [],
   "source": [
    "qk['lat'] = qk['geometry'].x\n",
    "qk['lon'] = qk['geometry'].y"
   ]
  },
  {
   "cell_type": "code",
   "execution_count": 47,
   "metadata": {},
   "outputs": [
    {
     "data": {
      "text/plain": [
       "array([[-1.55601705,  2.050333  ],\n",
       "       [-0.6006456 ,  0.4428277 ],\n",
       "       [-0.0573357 , -0.03470374],\n",
       "       [-0.05490503, -0.16133021],\n",
       "       [-0.38186309,  0.24323038],\n",
       "       [ 1.30640059,  0.7003649 ],\n",
       "       [ 1.07666582, -1.00156796],\n",
       "       [-1.58273623,  1.96985408],\n",
       "       [-0.06950293, -0.12484897],\n",
       "       [-1.98262179,  1.9687814 ]])"
      ]
     },
     "execution_count": 47,
     "metadata": {},
     "output_type": "execute_result"
    }
   ],
   "source": [
    "from sklearn.preprocessing import StandardScaler\n",
    "features = ['lat', 'lon']\n",
    "# Separating out the features\n",
    "cali = qk[(qk.geometry.x < -116.4) & (qk.geometry.y > 35.0)].loc[(qk.geometry.x > -118.67) & (qk.geometry.y < 36.4)]\n",
    "x = cali.loc[:, features].values\n",
    "sc = StandardScaler()\n",
    "x = sc.fit_transform(x)\n",
    "x[:10]"
   ]
  },
  {
   "cell_type": "code",
   "execution_count": 48,
   "metadata": {},
   "outputs": [
    {
     "name": "stdout",
     "output_type": "stream",
     "text": [
      "[-117.61463799   35.80538993] [0.13712248 0.15531271]\n"
     ]
    }
   ],
   "source": [
    "print(sc.mean_, sc.scale_)"
   ]
  },
  {
   "cell_type": "code",
   "execution_count": 51,
   "metadata": {},
   "outputs": [
    {
     "data": {
      "text/html": [
       "<div>\n",
       "<style scoped>\n",
       "    .dataframe tbody tr th:only-of-type {\n",
       "        vertical-align: middle;\n",
       "    }\n",
       "\n",
       "    .dataframe tbody tr th {\n",
       "        vertical-align: top;\n",
       "    }\n",
       "\n",
       "    .dataframe thead th {\n",
       "        text-align: right;\n",
       "    }\n",
       "</style>\n",
       "<table border=\"1\" class=\"dataframe\">\n",
       "  <thead>\n",
       "    <tr style=\"text-align: right;\">\n",
       "      <th></th>\n",
       "      <th>pc1</th>\n",
       "      <th>pc2</th>\n",
       "    </tr>\n",
       "  </thead>\n",
       "  <tbody>\n",
       "    <tr>\n",
       "      <th>count</th>\n",
       "      <td>1725.000000</td>\n",
       "      <td>1.725000e+03</td>\n",
       "    </tr>\n",
       "    <tr>\n",
       "      <th>mean</th>\n",
       "      <td>0.000000</td>\n",
       "      <td>8.238177e-18</td>\n",
       "    </tr>\n",
       "    <tr>\n",
       "      <th>std</th>\n",
       "      <td>1.336908</td>\n",
       "      <td>4.624261e-01</td>\n",
       "    </tr>\n",
       "    <tr>\n",
       "      <th>min</th>\n",
       "      <td>-3.114195</td>\n",
       "      <td>-2.538789e+00</td>\n",
       "    </tr>\n",
       "    <tr>\n",
       "      <th>25%</th>\n",
       "      <td>-1.047595</td>\n",
       "      <td>-1.013896e-01</td>\n",
       "    </tr>\n",
       "    <tr>\n",
       "      <th>50%</th>\n",
       "      <td>-0.194432</td>\n",
       "      <td>4.001153e-02</td>\n",
       "    </tr>\n",
       "    <tr>\n",
       "      <th>75%</th>\n",
       "      <td>0.942835</td>\n",
       "      <td>1.492870e-01</td>\n",
       "    </tr>\n",
       "    <tr>\n",
       "      <th>max</th>\n",
       "      <td>3.548389</td>\n",
       "      <td>3.756830e+00</td>\n",
       "    </tr>\n",
       "  </tbody>\n",
       "</table>\n",
       "</div>"
      ],
      "text/plain": [
       "               pc1           pc2\n",
       "count  1725.000000  1.725000e+03\n",
       "mean      0.000000  8.238177e-18\n",
       "std       1.336908  4.624261e-01\n",
       "min      -3.114195 -2.538789e+00\n",
       "25%      -1.047595 -1.013896e-01\n",
       "50%      -0.194432  4.001153e-02\n",
       "75%       0.942835  1.492870e-01\n",
       "max       3.548389  3.756830e+00"
      ]
     },
     "execution_count": 51,
     "metadata": {},
     "output_type": "execute_result"
    }
   ],
   "source": [
    "# https://towardsdatascience.com/pca-using-python-scikit-learn-e653f8989e60\n",
    "from sklearn.decomposition import PCA\n",
    "pca = PCA(n_components=2)\n",
    "principalComponents = pca.fit_transform(x)\n",
    "principalDf = pd.DataFrame(data = principalComponents, columns = ['pc1', 'pc2'])\n",
    "principalDf.describe()"
   ]
  },
  {
   "cell_type": "code",
   "execution_count": 53,
   "metadata": {},
   "outputs": [
    {
     "name": "stdout",
     "output_type": "stream",
     "text": [
      "[55.5098502  19.20043048] [[-0.70710678  0.70710678]\n",
      " [-0.70710678 -0.70710678]]\n"
     ]
    }
   ],
   "source": [
    "print(pca.singular_values_, pca.components_)"
   ]
  },
  {
   "cell_type": "markdown",
   "metadata": {},
   "source": [
    "Reverse transformation / reconstruction:\n",
    "https://stats.stackexchange.com/questions/229092/how-to-reverse-pca-and-reconstruct-original-variables-from-several-principal-com\n",
    "\n",
    "https://stackoverflow.com/questions/36566844/pca-projection-and-reconstruction-in-scikit-learn"
   ]
  },
  {
   "cell_type": "code",
   "execution_count": 52,
   "metadata": {},
   "outputs": [
    {
     "ename": "ValueError",
     "evalue": "Expected 2D array, got 1D array instead:\narray=[0 0].\nReshape your data either using array.reshape(-1, 1) if your data has a single feature or array.reshape(1, -1) if it contains a single sample.",
     "output_type": "error",
     "traceback": [
      "\u001b[0;31m---------------------------------------------------------------------------\u001b[0m",
      "\u001b[0;31mValueError\u001b[0m                                Traceback (most recent call last)",
      "\u001b[0;32m<ipython-input-52-523fc4c35eda>\u001b[0m in \u001b[0;36m<module>\u001b[0;34m\u001b[0m\n\u001b[0;32m----> 1\u001b[0;31m \u001b[0mpca\u001b[0m\u001b[0;34m.\u001b[0m\u001b[0mtransform\u001b[0m\u001b[0;34m(\u001b[0m\u001b[0;34m[\u001b[0m\u001b[0;36m0\u001b[0m\u001b[0;34m,\u001b[0m \u001b[0;36m0\u001b[0m\u001b[0;34m]\u001b[0m\u001b[0;34m)\u001b[0m\u001b[0;34m\u001b[0m\u001b[0;34m\u001b[0m\u001b[0m\n\u001b[0m",
      "\u001b[0;32m~/anaconda3/lib/python3.6/site-packages/sklearn/decomposition/base.py\u001b[0m in \u001b[0;36mtransform\u001b[0;34m(self, X)\u001b[0m\n\u001b[1;32m    125\u001b[0m         \u001b[0mcheck_is_fitted\u001b[0m\u001b[0;34m(\u001b[0m\u001b[0mself\u001b[0m\u001b[0;34m,\u001b[0m \u001b[0;34m[\u001b[0m\u001b[0;34m'mean_'\u001b[0m\u001b[0;34m,\u001b[0m \u001b[0;34m'components_'\u001b[0m\u001b[0;34m]\u001b[0m\u001b[0;34m,\u001b[0m \u001b[0mall_or_any\u001b[0m\u001b[0;34m=\u001b[0m\u001b[0mall\u001b[0m\u001b[0;34m)\u001b[0m\u001b[0;34m\u001b[0m\u001b[0;34m\u001b[0m\u001b[0m\n\u001b[1;32m    126\u001b[0m \u001b[0;34m\u001b[0m\u001b[0m\n\u001b[0;32m--> 127\u001b[0;31m         \u001b[0mX\u001b[0m \u001b[0;34m=\u001b[0m \u001b[0mcheck_array\u001b[0m\u001b[0;34m(\u001b[0m\u001b[0mX\u001b[0m\u001b[0;34m)\u001b[0m\u001b[0;34m\u001b[0m\u001b[0;34m\u001b[0m\u001b[0m\n\u001b[0m\u001b[1;32m    128\u001b[0m         \u001b[0;32mif\u001b[0m \u001b[0mself\u001b[0m\u001b[0;34m.\u001b[0m\u001b[0mmean_\u001b[0m \u001b[0;32mis\u001b[0m \u001b[0;32mnot\u001b[0m \u001b[0;32mNone\u001b[0m\u001b[0;34m:\u001b[0m\u001b[0;34m\u001b[0m\u001b[0;34m\u001b[0m\u001b[0m\n\u001b[1;32m    129\u001b[0m             \u001b[0mX\u001b[0m \u001b[0;34m=\u001b[0m \u001b[0mX\u001b[0m \u001b[0;34m-\u001b[0m \u001b[0mself\u001b[0m\u001b[0;34m.\u001b[0m\u001b[0mmean_\u001b[0m\u001b[0;34m\u001b[0m\u001b[0;34m\u001b[0m\u001b[0m\n",
      "\u001b[0;32m~/anaconda3/lib/python3.6/site-packages/sklearn/utils/validation.py\u001b[0m in \u001b[0;36mcheck_array\u001b[0;34m(array, accept_sparse, accept_large_sparse, dtype, order, copy, force_all_finite, ensure_2d, allow_nd, ensure_min_samples, ensure_min_features, warn_on_dtype, estimator)\u001b[0m\n\u001b[1;32m    519\u001b[0m                     \u001b[0;34m\"Reshape your data either using array.reshape(-1, 1) if \"\u001b[0m\u001b[0;34m\u001b[0m\u001b[0;34m\u001b[0m\u001b[0m\n\u001b[1;32m    520\u001b[0m                     \u001b[0;34m\"your data has a single feature or array.reshape(1, -1) \"\u001b[0m\u001b[0;34m\u001b[0m\u001b[0;34m\u001b[0m\u001b[0m\n\u001b[0;32m--> 521\u001b[0;31m                     \"if it contains a single sample.\".format(array))\n\u001b[0m\u001b[1;32m    522\u001b[0m \u001b[0;34m\u001b[0m\u001b[0m\n\u001b[1;32m    523\u001b[0m         \u001b[0;31m# in the future np.flexible dtypes will be handled like object dtypes\u001b[0m\u001b[0;34m\u001b[0m\u001b[0;34m\u001b[0m\u001b[0;34m\u001b[0m\u001b[0m\n",
      "\u001b[0;31mValueError\u001b[0m: Expected 2D array, got 1D array instead:\narray=[0 0].\nReshape your data either using array.reshape(-1, 1) if your data has a single feature or array.reshape(1, -1) if it contains a single sample."
     ]
    }
   ],
   "source": [
    "pca.transform([0, 0])"
   ]
  }
 ],
 "metadata": {
  "kernelspec": {
   "display_name": "Python 3",
   "language": "python",
   "name": "python3"
  },
  "language_info": {
   "codemirror_mode": {
    "name": "ipython",
    "version": 3
   },
   "file_extension": ".py",
   "mimetype": "text/x-python",
   "name": "python",
   "nbconvert_exporter": "python",
   "pygments_lexer": "ipython3",
   "version": "3.6.8"
  }
 },
 "nbformat": 4,
 "nbformat_minor": 2
}
